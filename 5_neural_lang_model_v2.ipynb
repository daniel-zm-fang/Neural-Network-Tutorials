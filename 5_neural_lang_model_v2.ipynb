{
  "cells": [
    {
      "attachments": {},
      "cell_type": "markdown",
      "metadata": {
        "id": "iARR45vPxTK1"
      },
      "source": [
        "Based on \"A Neural Probabilistic Language Model\" by Bengio et al. (2003)\n",
        "\n",
        "This is the improved version of the neural language model from the previous notebook."
      ]
    },
    {
      "cell_type": "code",
      "execution_count": 1,
      "metadata": {
        "colab": {
          "base_uri": "https://localhost:8080/"
        },
        "id": "ot8kFAV-xTK5",
        "outputId": "c88b4356-f4a6-4bdc-8b23-ccfb75c1886e"
      },
      "outputs": [
        {
          "name": "stdout",
          "output_type": "stream",
          "text": [
            "cpu\n"
          ]
        }
      ],
      "source": [
        "import torch\n",
        "import torch.nn.functional as F\n",
        "from torch.utils.data import DataLoader, Dataset\n",
        "import matplotlib.pyplot as plt\n",
        "\n",
        "device = torch.device(\"cuda\" if torch.cuda.is_available() else \"cpu\")\n",
        "print(device)"
      ]
    },
    {
      "cell_type": "code",
      "execution_count": 2,
      "metadata": {
        "colab": {
          "base_uri": "https://localhost:8080/"
        },
        "id": "egVgG-XoxTK6",
        "outputId": "f5e8b71c-434f-4168-a860-85fcd4c40947"
      },
      "outputs": [
        {
          "name": "stdout",
          "output_type": "stream",
          "text": [
            "Average word length in training set: 7.132521657691407\n"
          ]
        }
      ],
      "source": [
        "with open('data/names.txt', 'r') as f:\n",
        "    words = [word.strip().lower() + '.' for word in f.readlines()]\n",
        "\n",
        "train, valid, test = 0.8, 0.1, 0.1\n",
        "train_words = words[:int(len(words) * train)]\n",
        "valid_words = words[int(len(words) * train):int(len(words) * (train + valid))]\n",
        "test_words = words[int(len(words) * (train + valid)):]\n",
        "\n",
        "print(f'Average word length in training set: {sum([len(word) for word in train_words]) / len(train_words)}')"
      ]
    },
    {
      "cell_type": "code",
      "execution_count": 3,
      "metadata": {
        "id": "wE_P1qMixTK6"
      },
      "outputs": [],
      "source": [
        "class WordDataSet(Dataset):\n",
        "    def __init__(self, words, blck_size):\n",
        "        self.words = words\n",
        "        self.blck_size = blck_size\n",
        "\n",
        "        # Create a dictionary that maps char to integers, and vice versa\n",
        "        self.chars = sorted(list(set(''.join(self.words))))\n",
        "        self.char_to_int = {c: i + 1 for i, c in enumerate(self.chars)}\n",
        "        self.char_to_int['.'] = 0\n",
        "        self.int_to_char = {i: c for c, i in self.char_to_int.items()}\n",
        "\n",
        "        X, y = [], []\n",
        "        for w in self.words:\n",
        "            context = [0] * blck_size\n",
        "            for i in range(len(w)):\n",
        "                idx = self.char_to_int[w[i]]\n",
        "                X.append(context)\n",
        "                y.append(idx)\n",
        "                context = context[1:] + [idx]\n",
        "\n",
        "        self.X = torch.tensor(X)\n",
        "        self.y = torch.tensor(y)\n",
        "\n",
        "    def __len__(self):\n",
        "        return len(self.y)\n",
        "    \n",
        "    def __getitem__(self, idx):\n",
        "        return self.X[idx], self.y[idx]    "
      ]
    },
    {
      "cell_type": "code",
      "execution_count": 90,
      "metadata": {
        "id": "8Nylhq3GxTK7"
      },
      "outputs": [],
      "source": [
        "blck_size = 6\n",
        "train_ds = WordDataSet(train_words, blck_size)\n",
        "valid_ds = WordDataSet(valid_words, blck_size)\n",
        "test_ds = WordDataSet(test_words, blck_size)\n",
        "\n",
        "train_dl = DataLoader(train_ds, batch_size=64, shuffle=True)\n",
        "valid_dl = DataLoader(valid_ds, batch_size=64, shuffle=True)\n",
        "test_dl = DataLoader(test_ds, batch_size=64, shuffle=True)"
      ]
    },
    {
      "cell_type": "code",
      "execution_count": 119,
      "metadata": {
        "id": "OylXkzC4xTK7"
      },
      "outputs": [],
      "source": [
        "class NNLM(torch.nn.Module):\n",
        "    # Neural Network Language Model\n",
        "    def __init__(self, emb_size, hidden_size, vocab_size, blck_size):\n",
        "        super(NNLM, self).__init__()\n",
        "        self.emb_size = emb_size\n",
        "        self.hidden_size = hidden_size\n",
        "        self.vocab_size = vocab_size\n",
        "        self.blck_size = blck_size\n",
        "\n",
        "        self.emb = torch.nn.Parameter(torch.randn(vocab_size, emb_size))\n",
        "        # fixing initial loss: multiply W1 by 0.1, we don't want to have large logits at initialization\n",
        "\n",
        "        # manual tuning initialization (not optimal)\n",
        "        # self.W1 = torch.nn.Parameter(torch.randn(emb_size * blck_size, hidden_size) * 0.1)\n",
        "\n",
        "        # Kaiming initialization\n",
        "        self.W1 = torch.nn.Parameter(torch.nn.init.kaiming_normal_(torch.empty(emb_size * blck_size, hidden_size), nonlinearity='tanh'))\n",
        "        \n",
        "        # adding bias here is redundant, because we have batch normalization\n",
        "        # fixing saturated tanh: set b1 close to 0, get a little bit of entropy\n",
        "        # self.b1 = torch.nn.Parameter(torch.randn(hidden_size) * 0.01)\n",
        "\n",
        "        # fixing initial loss: multiply W2 by 0.01, we don't want to have large logits at initialization\n",
        "        self.W2 = torch.nn.Parameter(torch.randn(hidden_size, vocab_size) * 0.01)\n",
        "\n",
        "        # fixing initial loss: set b2 to 0, we don't want bias at initialization\n",
        "        self.b2 = torch.nn.Parameter(torch.zeros(vocab_size))\n",
        "\n",
        "        self.bn_gain = torch.nn.Parameter(torch.ones(hidden_size))\n",
        "        self.bn_bias = torch.nn.Parameter(torch.zeros(hidden_size))\n",
        "\n",
        "    def forward(self, x, return_hidden=False):\n",
        "        x = self.emb[x]\n",
        "        x = x.view(-1, self.emb_size * self.blck_size)\n",
        "        hidden = torch.matmul(x, self.W1)\n",
        "        # batch normalization\n",
        "        hidden = (hidden - hidden.mean(dim=1, keepdim=True)) / (hidden.std(dim=1, keepdim=True) + 1e-5)\n",
        "        hidden = hidden * self.bn_gain + self.bn_bias\n",
        "        x = torch.tanh(hidden)\n",
        "        x = torch.matmul(x, self.W2) + self.b2\n",
        "        if return_hidden:\n",
        "            return x, hidden\n",
        "        else:\n",
        "            return x"
      ]
    },
    {
      "attachments": {},
      "cell_type": "markdown",
      "metadata": {
        "id": "7PMekvQ-xTK7"
      },
      "source": [
        "* Embedding size > 32 doesn't make sense, because the alphabet size is only 26.\n",
        "* The block size is set to 6. It doesn't make sense to set it to be > 7, which is the average word length in the training set."
      ]
    },
    {
      "cell_type": "code",
      "execution_count": 120,
      "metadata": {},
      "outputs": [
        {
          "name": "stdout",
          "output_type": "stream",
          "text": [
            "Number of parameters: 10236\n",
            "Epoch: 1/100 | Train loss: 2.3025 | Valid loss: 2.4019\n",
            "Epoch: 2/100 | Train loss: 2.1612 | Valid loss: 2.3639\n",
            "Epoch: 3/100 | Train loss: 2.1178 | Valid loss: 2.3449\n",
            "Epoch: 4/100 | Train loss: 2.0906 | Valid loss: 2.3399\n",
            "Epoch: 5/100 | Train loss: 2.0717 | Valid loss: 2.3253\n",
            "Epoch: 6/100 | Train loss: 2.0579 | Valid loss: 2.3281\n",
            "Epoch: 7/100 | Train loss: 2.0459 | Valid loss: 2.3034\n",
            "Epoch: 8/100 | Train loss: 2.0373 | Valid loss: 2.3115\n",
            "Epoch: 9/100 | Train loss: 2.0295 | Valid loss: 2.3096\n",
            "Epoch: 10/100 | Train loss: 2.0227 | Valid loss: 2.2892\n",
            "Epoch: 11/100 | Train loss: 2.0174 | Valid loss: 2.3018\n",
            "Epoch: 12/100 | Train loss: 2.0128 | Valid loss: 2.3033\n",
            "Epoch: 13/100 | Train loss: 2.0095 | Valid loss: 2.2992\n",
            "Epoch: 14/100 | Train loss: 2.0053 | Valid loss: 2.2965\n",
            "Epoch: 15/100 | Train loss: 2.0020 | Valid loss: 2.2968\n",
            "Epoch: 16/100 | Train loss: 1.9984 | Valid loss: 2.3043\n",
            "Epoch: 17/100 | Train loss: 1.9963 | Valid loss: 2.2983\n",
            "Epoch: 18/100 | Train loss: 1.9935 | Valid loss: 2.2930\n",
            "Epoch: 19/100 | Train loss: 1.9911 | Valid loss: 2.3002\n",
            "Epoch: 20/100 | Train loss: 1.9882 | Valid loss: 2.3221\n",
            "Epoch: 21/100 | Train loss: 1.9865 | Valid loss: 2.2927\n",
            "Epoch: 22/100 | Train loss: 1.9848 | Valid loss: 2.3039\n",
            "Epoch: 23/100 | Train loss: 1.9829 | Valid loss: 2.2984\n",
            "Epoch: 24/100 | Train loss: 1.9817 | Valid loss: 2.2945\n",
            "Epoch: 25/100 | Train loss: 1.9799 | Valid loss: 2.3065\n",
            "Epoch: 26/100 | Train loss: 1.9787 | Valid loss: 2.3040\n",
            "Epoch: 27/100 | Train loss: 1.9773 | Valid loss: 2.2909\n",
            "Epoch: 28/100 | Train loss: 1.9759 | Valid loss: 2.3016\n",
            "Epoch: 29/100 | Train loss: 1.9751 | Valid loss: 2.2988\n",
            "Epoch: 30/100 | Train loss: 1.9739 | Valid loss: 2.2995\n",
            "Epoch: 31/100 | Train loss: 1.9726 | Valid loss: 2.2954\n",
            "Epoch: 32/100 | Train loss: 1.9715 | Valid loss: 2.2993\n",
            "Epoch: 33/100 | Train loss: 1.9704 | Valid loss: 2.3046\n",
            "Epoch: 34/100 | Train loss: 1.9699 | Valid loss: 2.3039\n",
            "Epoch: 35/100 | Train loss: 1.9684 | Valid loss: 2.3104\n",
            "Epoch: 36/100 | Train loss: 1.9680 | Valid loss: 2.3001\n",
            "Epoch: 37/100 | Train loss: 1.9669 | Valid loss: 2.3116\n",
            "Epoch: 38/100 | Train loss: 1.9660 | Valid loss: 2.3037\n",
            "Epoch: 39/100 | Train loss: 1.9652 | Valid loss: 2.3072\n",
            "Epoch: 40/100 | Train loss: 1.9644 | Valid loss: 2.3024\n",
            "Epoch: 41/100 | Train loss: 1.9645 | Valid loss: 2.3038\n",
            "Epoch: 42/100 | Train loss: 1.9633 | Valid loss: 2.2979\n",
            "Epoch: 43/100 | Train loss: 1.9623 | Valid loss: 2.3021\n",
            "Epoch: 44/100 | Train loss: 1.9622 | Valid loss: 2.2972\n",
            "Epoch: 45/100 | Train loss: 1.9616 | Valid loss: 2.2965\n",
            "Epoch: 46/100 | Train loss: 1.9605 | Valid loss: 2.3145\n",
            "Epoch: 47/100 | Train loss: 1.9609 | Valid loss: 2.3098\n",
            "Epoch: 48/100 | Train loss: 1.9605 | Valid loss: 2.3107\n",
            "Epoch: 49/100 | Train loss: 1.9593 | Valid loss: 2.3025\n",
            "Epoch: 50/100 | Train loss: 1.9587 | Valid loss: 2.2988\n",
            "Epoch: 51/100 | Train loss: 1.9582 | Valid loss: 2.3085\n",
            "Epoch: 52/100 | Train loss: 1.9579 | Valid loss: 2.3021\n",
            "Epoch: 53/100 | Train loss: 1.9570 | Valid loss: 2.3095\n",
            "Epoch: 54/100 | Train loss: 1.9568 | Valid loss: 2.2955\n",
            "Epoch: 55/100 | Train loss: 1.9567 | Valid loss: 2.3045\n",
            "Epoch: 56/100 | Train loss: 1.9558 | Valid loss: 2.3112\n",
            "Epoch: 57/100 | Train loss: 1.9558 | Valid loss: 2.3039\n",
            "Epoch: 58/100 | Train loss: 1.9555 | Valid loss: 2.3044\n",
            "Epoch: 59/100 | Train loss: 1.9546 | Valid loss: 2.3096\n",
            "Epoch: 60/100 | Train loss: 1.9540 | Valid loss: 2.3110\n",
            "Epoch: 61/100 | Train loss: 1.9538 | Valid loss: 2.2999\n",
            "Epoch: 62/100 | Train loss: 1.9538 | Valid loss: 2.3119\n",
            "Epoch: 63/100 | Train loss: 1.9527 | Valid loss: 2.3093\n",
            "Epoch: 64/100 | Train loss: 1.9526 | Valid loss: 2.2964\n",
            "Epoch: 65/100 | Train loss: 1.9528 | Valid loss: 2.3109\n",
            "Epoch: 66/100 | Train loss: 1.9522 | Valid loss: 2.3134\n",
            "Epoch: 67/100 | Train loss: 1.9520 | Valid loss: 2.2986\n",
            "Epoch: 68/100 | Train loss: 1.9521 | Valid loss: 2.3083\n",
            "Epoch: 69/100 | Train loss: 1.9513 | Valid loss: 2.3113\n",
            "Epoch: 70/100 | Train loss: 1.9508 | Valid loss: 2.3067\n",
            "Epoch: 71/100 | Train loss: 1.9505 | Valid loss: 2.3073\n",
            "Epoch: 72/100 | Train loss: 1.9500 | Valid loss: 2.3081\n",
            "Epoch: 73/100 | Train loss: 1.9499 | Valid loss: 2.3100\n",
            "Epoch: 74/100 | Train loss: 1.9500 | Valid loss: 2.3095\n",
            "Epoch: 75/100 | Train loss: 1.9494 | Valid loss: 2.3080\n",
            "Epoch: 76/100 | Train loss: 1.9484 | Valid loss: 2.3141\n",
            "Epoch: 77/100 | Train loss: 1.9486 | Valid loss: 2.3229\n",
            "Epoch: 78/100 | Train loss: 1.9481 | Valid loss: 2.3138\n",
            "Epoch: 79/100 | Train loss: 1.9480 | Valid loss: 2.3140\n",
            "Epoch: 80/100 | Train loss: 1.9478 | Valid loss: 2.3098\n",
            "Epoch: 81/100 | Train loss: 1.9478 | Valid loss: 2.3037\n",
            "Epoch: 82/100 | Train loss: 1.9473 | Valid loss: 2.3151\n",
            "Epoch: 83/100 | Train loss: 1.9473 | Valid loss: 2.3054\n",
            "Epoch: 84/100 | Train loss: 1.9471 | Valid loss: 2.3150\n",
            "Epoch: 85/100 | Train loss: 1.9468 | Valid loss: 2.3133\n",
            "Epoch: 86/100 | Train loss: 1.9464 | Valid loss: 2.3172\n",
            "Epoch: 87/100 | Train loss: 1.9465 | Valid loss: 2.3087\n",
            "Epoch: 88/100 | Train loss: 1.9459 | Valid loss: 2.3204\n",
            "Epoch: 89/100 | Train loss: 1.9450 | Valid loss: 2.3120\n",
            "Epoch: 90/100 | Train loss: 1.9453 | Valid loss: 2.3125\n",
            "Epoch: 91/100 | Train loss: 1.9452 | Valid loss: 2.3251\n",
            "Epoch: 92/100 | Train loss: 1.9452 | Valid loss: 2.3092\n",
            "Epoch: 93/100 | Train loss: 1.9444 | Valid loss: 2.3137\n",
            "Epoch: 94/100 | Train loss: 1.9448 | Valid loss: 2.3147\n",
            "Epoch: 95/100 | Train loss: 1.9440 | Valid loss: 2.3163\n",
            "Epoch: 96/100 | Train loss: 1.9439 | Valid loss: 2.3097\n",
            "Epoch: 97/100 | Train loss: 1.9438 | Valid loss: 2.3205\n",
            "Epoch: 98/100 | Train loss: 1.9438 | Valid loss: 2.3238\n",
            "Epoch: 99/100 | Train loss: 1.9438 | Valid loss: 2.3135\n",
            "Epoch: 100/100 | Train loss: 1.9434 | Valid loss: 2.3156\n"
          ]
        }
      ],
      "source": [
        "model = NNLM(8, 128, len(train_ds.chars) + 1, blck_size)\n",
        "model.to(device)\n",
        "print(f'Number of parameters: {sum([p.numel() for p in model.parameters()])}')\n",
        "\n",
        "num_epochs = 100\n",
        "criterion = torch.nn.CrossEntropyLoss()\n",
        "optimizer = torch.optim.Adam(model.parameters(), lr=0.001)\n",
        "\n",
        "train_loss, valid_loss = [], []\n",
        "for epoch in range(num_epochs):\n",
        "    model.train()\n",
        "    running_loss = 0\n",
        "    for x, y in train_dl:\n",
        "        x, y = x.to(device), y.to(device)\n",
        "        optimizer.zero_grad()\n",
        "        y_hat = model(x)\n",
        "        loss = criterion(y_hat, y)\n",
        "        loss.backward()\n",
        "        optimizer.step()\n",
        "        running_loss += loss.item()\n",
        "    train_loss.append(running_loss / len(train_dl))\n",
        "\n",
        "    model.eval()\n",
        "    running_loss = 0\n",
        "    for x, y in valid_dl:\n",
        "        x, y = x.to(device), y.to(device)\n",
        "        y_hat = model(x)\n",
        "        loss = criterion(y_hat, y)\n",
        "        running_loss += loss.item()\n",
        "    valid_loss.append(running_loss / len(valid_dl))\n",
        "\n",
        "    print(f'Epoch: {epoch + 1}/{num_epochs} | Train loss: {train_loss[-1]:.4f} | Valid loss: {valid_loss[-1]:.4f}')"
      ]
    },
    {
      "cell_type": "code",
      "execution_count": 121,
      "metadata": {},
      "outputs": [
        {
          "data": {
            "image/png": "[encoded data removed]",
            "text/plain": [
              "<Figure size 640x480 with 1 Axes>"
            ]
          },
          "metadata": {},
          "output_type": "display_data"
        }
      ],
      "source": [
        "plt.plot(train_loss, label='Train loss')\n",
        "plt.plot(valid_loss, label='Valid loss')\n",
        "plt.legend()\n",
        "plt.xlabel('Epoch')\n",
        "plt.ylabel('Loss')\n",
        "plt.title('Loss vs. Epoch')\n",
        "plt.grid()\n",
        "plt.show()"
      ]
    },
    {
      "cell_type": "code",
      "execution_count": 96,
      "metadata": {},
      "outputs": [],
      "source": [
        "def visualize_activated_neurons(model, input_batch, int_to_char, blck_size, threshold=0.99):\n",
        "    # Pass the input batch through the model and get the hidden layer output\n",
        "    _, hidden_batch = model(input_batch, return_hidden=True)\n",
        "\n",
        "    # Calculate activated neurons\n",
        "    tanh_hidden_batch = torch.tanh(hidden_batch)\n",
        "    activated_neurons_batch = (tanh_hidden_batch.abs() > threshold).float()\n",
        "    print(f'% of activated neurons: {activated_neurons_batch.mean() * 100:.2f}%')\n",
        "\n",
        "    # Plot the activated neurons for each sample\n",
        "    plt.figure(figsize=(10, 5))\n",
        "    plt.imshow(activated_neurons_batch, cmap='gray', aspect='auto', interpolation='nearest')\n",
        "    plt.xlabel(\"Neuron index\")\n",
        "    plt.ylabel(\"Sample index\")\n",
        "    plt.title(\"Activated neurons in the hidden layer\")\n",
        "    plt.colorbar()\n",
        "    plt.show()    "
      ]
    },
    {
      "cell_type": "code",
      "execution_count": 135,
      "metadata": {},
      "outputs": [
        {
          "name": "stdout",
          "output_type": "stream",
          "text": [
            "% of activated neurons: 51.89%\n"
          ]
        },
        {
          "data": {
            "image/png": "[encoded data removed]",
            "text/plain": [
              "<Figure size 1000x500 with 2 Axes>"
            ]
          },
          "metadata": {},
          "output_type": "display_data"
        }
      ],
      "source": [
        "# Get a batch from the train_loader\n",
        "input_batch, _ = next(iter(train_dl))\n",
        "\n",
        "# Call the visualization function\n",
        "visualize_activated_neurons(model, input_batch, train_ds.int_to_char, blck_size)"
      ]
    },
    {
      "attachments": {},
      "cell_type": "markdown",
      "metadata": {},
      "source": [
        "The above image shows that the hidden layer neurons are working as expected: there are no samples in which all the neurons are active or inactive. This means that no hidden layer neurons are redundant. There are also diverse patterns of neuron activations, which means that the hidden layer is learning different features."
      ]
    },
    {
      "cell_type": "code",
      "execution_count": 89,
      "metadata": {
        "colab": {
          "base_uri": "https://localhost:8080/"
        },
        "id": "JU6q5KEvxTK9",
        "outputId": "8b1c10fd-44f5-4d8c-b393-2fd1fee26656"
      },
      "outputs": [
        {
          "name": "stdout",
          "output_type": "stream",
          "text": [
            "alysha\n",
            "zirphan\n",
            "harlon\n",
            "ivi\n",
            "yuni\n",
            "harmoney\n",
            "laven\n",
            "kinzia\n",
            "taylynn\n",
            "macherisza\n"
          ]
        }
      ],
      "source": [
        "# sampling\n",
        "max_length = 20\n",
        "num_words = 10\n",
        "\n",
        "model.eval()\n",
        "for _ in range(num_words):\n",
        "    context = [0] * blck_size\n",
        "    generated_word = []\n",
        "    for _ in range(max_length):\n",
        "        x = torch.tensor([context])\n",
        "        y_hat = model(x)\n",
        "        # output has shape (1, vocab_size), squeeze to (vocab_size)\n",
        "        probs = F.softmax(y_hat, dim=1).squeeze()\n",
        "        sampled_char_idx = torch.multinomial(probs, 1).item()\n",
        "        if sampled_char_idx == 0:\n",
        "            break\n",
        "        generated_word.append(train_ds.int_to_char[sampled_char_idx])\n",
        "        context = context[1:] + [sampled_char_idx]\n",
        "    print(''.join(generated_word))"
      ]
    }
  ],
  "metadata": {
    "accelerator": "GPU",
    "colab": {
      "gpuType": "T4",
      "machine_shape": "hm",
      "provenance": []
    },
    "gpuClass": "standard",
    "kernelspec": {
      "display_name": "Python 3",
      "language": "python",
      "name": "python3"
    },
    "language_info": {
      "codemirror_mode": {
        "name": "ipython",
        "version": 3
      },
      "file_extension": ".py",
      "mimetype": "text/x-python",
      "name": "python",
      "nbconvert_exporter": "python",
      "pygments_lexer": "ipython3",
      "version": "3.11.0"
    },
    "orig_nbformat": 4
  },
  "nbformat": 4,
  "nbformat_minor": 0
}
