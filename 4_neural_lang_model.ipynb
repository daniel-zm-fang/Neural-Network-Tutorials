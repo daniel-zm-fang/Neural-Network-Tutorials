{
  "cells": [
    {
      "attachments": {},
      "cell_type": "markdown",
      "metadata": {
        "id": "iARR45vPxTK1"
      },
      "source": [
        "Based on \"A Neural Probabilistic Language Model\" by Bengio et al. (2003)"
      ]
    },
    {
      "cell_type": "code",
      "execution_count": 8,
      "metadata": {
        "colab": {
          "base_uri": "https://localhost:8080/"
        },
        "id": "ot8kFAV-xTK5",
        "outputId": "c88b4356-f4a6-4bdc-8b23-ccfb75c1886e"
      },
      "outputs": [
        {
          "name": "stdout",
          "output_type": "stream",
          "text": [
            "cuda\n"
          ]
        }
      ],
      "source": [
        "import torch\n",
        "import torch.nn.functional as F\n",
        "from torch.utils.data import DataLoader, Dataset\n",
        "import matplotlib.pyplot as plt\n",
        "\n",
        "device = torch.device(\"cuda\" if torch.cuda.is_available() else \"cpu\")\n",
        "print(device)"
      ]
    },
    {
      "cell_type": "code",
      "execution_count": 9,
      "metadata": {
        "colab": {
          "base_uri": "https://localhost:8080/"
        },
        "id": "egVgG-XoxTK6",
        "outputId": "f5e8b71c-434f-4168-a860-85fcd4c40947"
      },
      "outputs": [
        {
          "name": "stdout",
          "output_type": "stream",
          "text": [
            "Average word length in training set: 7.132521657691407\n"
          ]
        }
      ],
      "source": [
        "with open('data/names.txt', 'r') as f:\n",
        "    words = [word.strip().lower() + '.' for word in f.readlines()]\n",
        "\n",
        "train, valid, test = 0.8, 0.1, 0.1\n",
        "train_words = words[:int(len(words) * train)]\n",
        "valid_words = words[int(len(words) * train):int(len(words) * (train + valid))]\n",
        "test_words = words[int(len(words) * (train + valid)):]\n",
        "\n",
        "print(f'Average word length in training set: {sum([len(word) for word in train_words]) / len(train_words)}')"
      ]
    },
    {
      "cell_type": "code",
      "execution_count": 11,
      "metadata": {
        "id": "wE_P1qMixTK6"
      },
      "outputs": [],
      "source": [
        "class WordDataSet(Dataset):\n",
        "    def __init__(self, words, blck_size):\n",
        "        self.words = words\n",
        "        self.blck_size = blck_size\n",
        "\n",
        "        # Create a dictionary that maps char to integers, and vice versa\n",
        "        self.chars = sorted(list(set(''.join(self.words))))\n",
        "        self.char_to_int = {c: i + 1 for i, c in enumerate(self.chars)}\n",
        "        self.char_to_int['.'] = 0\n",
        "        self.int_to_char = {i: c for c, i in self.char_to_int.items()}\n",
        "\n",
        "        X, y = [], []\n",
        "        for w in self.words:\n",
        "            context = [0] * blck_size\n",
        "            for i in range(len(w)):\n",
        "                idx = self.char_to_int[w[i]]\n",
        "                X.append(context)\n",
        "                y.append(idx)\n",
        "                context = context[1:] + [idx]\n",
        "\n",
        "        self.X = torch.tensor(X)\n",
        "        self.y = torch.tensor(y)\n",
        "\n",
        "    def __len__(self):\n",
        "        return len(self.y)\n",
        "    \n",
        "    def __getitem__(self, idx):\n",
        "        return self.X[idx], self.y[idx]    "
      ]
    },
    {
      "cell_type": "code",
      "execution_count": 18,
      "metadata": {
        "id": "8Nylhq3GxTK7"
      },
      "outputs": [],
      "source": [
        "blck_size = 4\n",
        "train_ds = WordDataSet(train_words, blck_size)\n",
        "valid_ds = WordDataSet(valid_words, blck_size)\n",
        "test_ds = WordDataSet(test_words, blck_size)\n",
        "\n",
        "train_dl = DataLoader(train_ds, batch_size=256, shuffle=True)\n",
        "valid_dl = DataLoader(valid_ds, batch_size=256, shuffle=True)\n",
        "test_dl = DataLoader(test_ds, batch_size=256, shuffle=True)"
      ]
    },
    {
      "cell_type": "code",
      "execution_count": 19,
      "metadata": {
        "id": "OylXkzC4xTK7"
      },
      "outputs": [],
      "source": [
        "class NNLM(torch.nn.Module):\n",
        "    # Neural Network Language Model\n",
        "    def __init__(self, emb_size, hidden_size, vocab_size, blck_size):\n",
        "        super(NNLM, self).__init__()\n",
        "        self.emb_size = emb_size\n",
        "        self.hidden_size = hidden_size\n",
        "        self.vocab_size = vocab_size\n",
        "        self.blck_size = blck_size\n",
        "\n",
        "        self.emb = torch.nn.Parameter(torch.randn(vocab_size, emb_size))\n",
        "        self.W1 = torch.nn.Parameter(torch.randn(emb_size * blck_size, hidden_size))\n",
        "        self.b1 = torch.nn.Parameter(torch.randn(hidden_size))\n",
        "        self.W2 = torch.nn.Parameter(torch.randn(hidden_size, vocab_size))\n",
        "        self.b2 = torch.nn.Parameter(torch.randn(vocab_size))\n",
        "\n",
        "    def forward(self, x):\n",
        "        x = self.emb[x]\n",
        "        x = x.view(-1, self.emb_size * self.blck_size)\n",
        "        x = torch.tanh(torch.matmul(x, self.W1) + self.b1)\n",
        "        x = torch.matmul(x, self.W2) + self.b2\n",
        "        return x"
      ]
    },
    {
      "attachments": {},
      "cell_type": "markdown",
      "metadata": {
        "id": "7PMekvQ-xTK7"
      },
      "source": [
        "* Embedding size > 32 doesn't make sense, because the alphabet size is only 26.\n",
        "* The block size is set to 4. It doesn't make sense to set it to be > 7, which is the average word length in the training set."
      ]
    },
    {
      "cell_type": "code",
      "execution_count": 20,
      "metadata": {
        "colab": {
          "base_uri": "https://localhost:8080/"
        },
        "id": "DK5abXUgxTK7",
        "outputId": "486cbb5c-a9de-476b-8fd2-03eef07e2d65"
      },
      "outputs": [
        {
          "name": "stdout",
          "output_type": "stream",
          "text": [
            "Number of parameters: 8060\n",
            "Epoch: 1/100 | Train loss: 8.3782 | Valid loss: 6.2132\n",
            "Epoch: 2/100 | Train loss: 4.6768 | Valid loss: 4.8554\n",
            "Epoch: 3/100 | Train loss: 3.8095 | Valid loss: 4.1719\n",
            "Epoch: 4/100 | Train loss: 3.3363 | Valid loss: 3.7345\n",
            "Epoch: 5/100 | Train loss: 3.0273 | Valid loss: 3.4336\n",
            "Epoch: 6/100 | Train loss: 2.8106 | Valid loss: 3.1901\n",
            "Epoch: 7/100 | Train loss: 2.6525 | Valid loss: 3.0251\n",
            "Epoch: 8/100 | Train loss: 2.5357 | Valid loss: 2.8876\n",
            "Epoch: 9/100 | Train loss: 2.4501 | Valid loss: 2.7851\n",
            "Epoch: 10/100 | Train loss: 2.3853 | Valid loss: 2.7067\n",
            "Epoch: 11/100 | Train loss: 2.3368 | Valid loss: 2.6525\n",
            "Epoch: 12/100 | Train loss: 2.2994 | Valid loss: 2.6067\n",
            "Epoch: 13/100 | Train loss: 2.2708 | Valid loss: 2.5594\n",
            "Epoch: 14/100 | Train loss: 2.2486 | Valid loss: 2.5324\n",
            "Epoch: 15/100 | Train loss: 2.2312 | Valid loss: 2.5093\n",
            "Epoch: 16/100 | Train loss: 2.2171 | Valid loss: 2.5021\n",
            "Epoch: 17/100 | Train loss: 2.2055 | Valid loss: 2.4843\n",
            "Epoch: 18/100 | Train loss: 2.1956 | Valid loss: 2.4764\n",
            "Epoch: 19/100 | Train loss: 2.1874 | Valid loss: 2.4592\n",
            "Epoch: 20/100 | Train loss: 2.1798 | Valid loss: 2.4592\n",
            "Epoch: 21/100 | Train loss: 2.1738 | Valid loss: 2.4480\n",
            "Epoch: 22/100 | Train loss: 2.1683 | Valid loss: 2.4435\n",
            "Epoch: 23/100 | Train loss: 2.1631 | Valid loss: 2.4426\n",
            "Epoch: 24/100 | Train loss: 2.1581 | Valid loss: 2.4314\n",
            "Epoch: 25/100 | Train loss: 2.1539 | Valid loss: 2.4206\n",
            "Epoch: 26/100 | Train loss: 2.1497 | Valid loss: 2.4269\n",
            "Epoch: 27/100 | Train loss: 2.1462 | Valid loss: 2.4247\n",
            "Epoch: 28/100 | Train loss: 2.1419 | Valid loss: 2.4184\n",
            "Epoch: 29/100 | Train loss: 2.1387 | Valid loss: 2.4103\n",
            "Epoch: 30/100 | Train loss: 2.1359 | Valid loss: 2.4137\n",
            "Epoch: 31/100 | Train loss: 2.1324 | Valid loss: 2.4131\n",
            "Epoch: 32/100 | Train loss: 2.1296 | Valid loss: 2.4078\n",
            "Epoch: 33/100 | Train loss: 2.1273 | Valid loss: 2.3943\n",
            "Epoch: 34/100 | Train loss: 2.1244 | Valid loss: 2.4052\n",
            "Epoch: 35/100 | Train loss: 2.1223 | Valid loss: 2.4004\n",
            "Epoch: 36/100 | Train loss: 2.1200 | Valid loss: 2.4006\n",
            "Epoch: 37/100 | Train loss: 2.1173 | Valid loss: 2.4019\n",
            "Epoch: 38/100 | Train loss: 2.1152 | Valid loss: 2.4035\n",
            "Epoch: 39/100 | Train loss: 2.1131 | Valid loss: 2.3973\n",
            "Epoch: 40/100 | Train loss: 2.1107 | Valid loss: 2.3951\n",
            "Epoch: 41/100 | Train loss: 2.1095 | Valid loss: 2.3878\n",
            "Epoch: 42/100 | Train loss: 2.1067 | Valid loss: 2.3911\n",
            "Epoch: 43/100 | Train loss: 2.1050 | Valid loss: 2.3869\n",
            "Epoch: 44/100 | Train loss: 2.1039 | Valid loss: 2.3938\n",
            "Epoch: 45/100 | Train loss: 2.1014 | Valid loss: 2.3891\n",
            "Epoch: 46/100 | Train loss: 2.0997 | Valid loss: 2.3816\n",
            "Epoch: 47/100 | Train loss: 2.0988 | Valid loss: 2.3837\n",
            "Epoch: 48/100 | Train loss: 2.0967 | Valid loss: 2.3809\n",
            "Epoch: 49/100 | Train loss: 2.0950 | Valid loss: 2.3985\n",
            "Epoch: 50/100 | Train loss: 2.0932 | Valid loss: 2.3848\n",
            "Epoch: 51/100 | Train loss: 2.0918 | Valid loss: 2.3851\n",
            "Epoch: 52/100 | Train loss: 2.0903 | Valid loss: 2.3766\n",
            "Epoch: 53/100 | Train loss: 2.0894 | Valid loss: 2.3788\n",
            "Epoch: 54/100 | Train loss: 2.0871 | Valid loss: 2.3749\n",
            "Epoch: 55/100 | Train loss: 2.0864 | Valid loss: 2.3784\n",
            "Epoch: 56/100 | Train loss: 2.0848 | Valid loss: 2.3738\n",
            "Epoch: 57/100 | Train loss: 2.0837 | Valid loss: 2.3811\n",
            "Epoch: 58/100 | Train loss: 2.0825 | Valid loss: 2.3707\n",
            "Epoch: 59/100 | Train loss: 2.0814 | Valid loss: 2.3674\n",
            "Epoch: 60/100 | Train loss: 2.0800 | Valid loss: 2.3723\n",
            "Epoch: 61/100 | Train loss: 2.0791 | Valid loss: 2.3682\n",
            "Epoch: 62/100 | Train loss: 2.0776 | Valid loss: 2.3741\n",
            "Epoch: 63/100 | Train loss: 2.0763 | Valid loss: 2.3638\n",
            "Epoch: 64/100 | Train loss: 2.0752 | Valid loss: 2.3713\n",
            "Epoch: 65/100 | Train loss: 2.0744 | Valid loss: 2.3705\n",
            "Epoch: 66/100 | Train loss: 2.0730 | Valid loss: 2.3676\n",
            "Epoch: 67/100 | Train loss: 2.0721 | Valid loss: 2.3617\n",
            "Epoch: 68/100 | Train loss: 2.0713 | Valid loss: 2.3691\n",
            "Epoch: 69/100 | Train loss: 2.0698 | Valid loss: 2.3695\n",
            "Epoch: 70/100 | Train loss: 2.0693 | Valid loss: 2.3664\n",
            "Epoch: 71/100 | Train loss: 2.0680 | Valid loss: 2.3523\n",
            "Epoch: 72/100 | Train loss: 2.0673 | Valid loss: 2.3636\n",
            "Epoch: 73/100 | Train loss: 2.0664 | Valid loss: 2.3640\n",
            "Epoch: 74/100 | Train loss: 2.0659 | Valid loss: 2.3712\n",
            "Epoch: 75/100 | Train loss: 2.0646 | Valid loss: 2.3583\n",
            "Epoch: 76/100 | Train loss: 2.0634 | Valid loss: 2.3724\n",
            "Epoch: 77/100 | Train loss: 2.0627 | Valid loss: 2.3706\n",
            "Epoch: 78/100 | Train loss: 2.0617 | Valid loss: 2.3626\n",
            "Epoch: 79/100 | Train loss: 2.0612 | Valid loss: 2.3498\n",
            "Epoch: 80/100 | Train loss: 2.0603 | Valid loss: 2.3497\n",
            "Epoch: 81/100 | Train loss: 2.0594 | Valid loss: 2.3586\n",
            "Epoch: 82/100 | Train loss: 2.0583 | Valid loss: 2.3592\n",
            "Epoch: 83/100 | Train loss: 2.0579 | Valid loss: 2.3574\n",
            "Epoch: 84/100 | Train loss: 2.0570 | Valid loss: 2.3602\n",
            "Epoch: 85/100 | Train loss: 2.0560 | Valid loss: 2.3605\n",
            "Epoch: 86/100 | Train loss: 2.0556 | Valid loss: 2.3585\n",
            "Epoch: 87/100 | Train loss: 2.0550 | Valid loss: 2.3579\n",
            "Epoch: 88/100 | Train loss: 2.0538 | Valid loss: 2.3539\n",
            "Epoch: 89/100 | Train loss: 2.0534 | Valid loss: 2.3633\n",
            "Epoch: 90/100 | Train loss: 2.0526 | Valid loss: 2.3576\n",
            "Epoch: 91/100 | Train loss: 2.0517 | Valid loss: 2.3549\n",
            "Epoch: 92/100 | Train loss: 2.0513 | Valid loss: 2.3607\n",
            "Epoch: 93/100 | Train loss: 2.0508 | Valid loss: 2.3532\n",
            "Epoch: 94/100 | Train loss: 2.0500 | Valid loss: 2.3658\n",
            "Epoch: 95/100 | Train loss: 2.0499 | Valid loss: 2.3534\n",
            "Epoch: 96/100 | Train loss: 2.0483 | Valid loss: 2.3579\n",
            "Epoch: 97/100 | Train loss: 2.0482 | Valid loss: 2.3522\n",
            "Epoch: 98/100 | Train loss: 2.0479 | Valid loss: 2.3514\n",
            "Epoch: 99/100 | Train loss: 2.0471 | Valid loss: 2.3551\n",
            "Epoch: 100/100 | Train loss: 2.0462 | Valid loss: 2.3535\n"
          ]
        }
      ],
      "source": [
        "model = NNLM(8, 128, len(train_ds.chars) + 1, blck_size)\n",
        "model.to(device)\n",
        "print(f'Number of parameters: {sum([p.numel() for p in model.parameters()])}')\n",
        "\n",
        "num_epochs = 100\n",
        "criterion = torch.nn.CrossEntropyLoss()\n",
        "optimizer = torch.optim.Adam(model.parameters(), lr=0.001)\n",
        "\n",
        "train_loss, valid_loss = [], []\n",
        "for epoch in range(num_epochs):\n",
        "    model.train()\n",
        "    running_loss = 0\n",
        "    for x, y in train_dl:\n",
        "        x, y = x.to(device), y.to(device)\n",
        "        optimizer.zero_grad()\n",
        "        y_hat = model(x)\n",
        "        loss = criterion(y_hat, y)\n",
        "        loss.backward()\n",
        "        optimizer.step()\n",
        "        running_loss += loss.item()\n",
        "    train_loss.append(running_loss / len(train_dl))\n",
        "\n",
        "    model.eval()\n",
        "    running_loss = 0\n",
        "    for x, y in valid_dl:\n",
        "        x, y = x.to(device), y.to(device)\n",
        "        y_hat = model(x)\n",
        "        loss = criterion(y_hat, y)\n",
        "        running_loss += loss.item()\n",
        "    valid_loss.append(running_loss / len(valid_dl))\n",
        "\n",
        "    print(f'Epoch: {epoch + 1}/{num_epochs} | Train loss: {train_loss[-1]:.4f} | Valid loss: {valid_loss[-1]:.4f}')"
      ]
    },
    {
      "cell_type": "code",
      "execution_count": 21,
      "metadata": {
        "colab": {
          "base_uri": "https://localhost:8080/",
          "height": 472
        },
        "id": "Fvw_dGH3xTK8",
        "outputId": "4afaafe1-9a92-41c6-a403-91a0cc840893"
      },
      "outputs": [
        {
          "data": {
            "image/png": "[encoded data removed]",
            "text/plain": [
              "<Figure size 640x480 with 1 Axes>"
            ]
          },
          "metadata": {},
          "output_type": "display_data"
        }
      ],
      "source": [
        "plt.plot(train_loss, label='Train loss')\n",
        "plt.plot(valid_loss, label='Valid loss')\n",
        "plt.legend()\n",
        "plt.xlabel('Epoch')\n",
        "plt.ylabel('Loss')\n",
        "plt.title('Loss vs. Epoch')\n",
        "plt.grid()\n",
        "plt.show()"
      ]
    },
    {
      "cell_type": "code",
      "execution_count": 44,
      "metadata": {
        "colab": {
          "base_uri": "https://localhost:8080/"
        },
        "id": "JU6q5KEvxTK9",
        "outputId": "8b1c10fd-44f5-4d8c-b393-2fd1fee26656"
      },
      "outputs": [
        {
          "name": "stdout",
          "output_type": "stream",
          "text": [
            "jestea\n",
            "giana\n",
            "shae\n",
            "ayeen\n",
            "arir\n",
            "ellesli\n",
            "eddichannah\n",
            "camir\n",
            "zifi\n",
            "azaez\n"
          ]
        }
      ],
      "source": [
        "# sampling\n",
        "max_length = 20\n",
        "num_words = 10\n",
        "\n",
        "model.eval()\n",
        "for _ in range(num_words):\n",
        "    context = [0] * blck_size\n",
        "    generated_word = []\n",
        "    for _ in range(max_length):\n",
        "        x = torch.tensor([context])\n",
        "        y_hat = model(x)\n",
        "        # output has shape (1, vocab_size), squeeze to (vocab_size)\n",
        "        probs = F.softmax(y_hat, dim=1).squeeze()\n",
        "        sampled_char_idx = torch.multinomial(probs, 1).item()\n",
        "        if sampled_char_idx == 0:\n",
        "            break\n",
        "        generated_word.append(train_ds.int_to_char[sampled_char_idx])\n",
        "        context = context[1:] + [sampled_char_idx]\n",
        "    print(''.join(generated_word))"
      ]
    }
  ],
  "metadata": {
    "accelerator": "GPU",
    "colab": {
      "gpuType": "T4",
      "machine_shape": "hm",
      "provenance": []
    },
    "gpuClass": "standard",
    "kernelspec": {
      "display_name": "Python 3",
      "language": "python",
      "name": "python3"
    },
    "language_info": {
      "codemirror_mode": {
        "name": "ipython",
        "version": 3
      },
      "file_extension": ".py",
      "mimetype": "text/x-python",
      "name": "python",
      "nbconvert_exporter": "python",
      "pygments_lexer": "ipython3",
      "version": "3.11.0"
    },
    "orig_nbformat": 4
  },
  "nbformat": 4,
  "nbformat_minor": 0
}
