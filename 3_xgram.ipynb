{
 "cells": [
  {
   "cell_type": "code",
   "execution_count": 1,
   "metadata": {},
   "outputs": [],
   "source": [
    "import numpy as np\n",
    "import pandas as pd\n",
    "import matplotlib.pyplot as plt\n",
    "\n",
    "np.random.seed(42)"
   ]
  },
  {
   "cell_type": "code",
   "execution_count": 2,
   "metadata": {},
   "outputs": [],
   "source": [
    "class XgramWordGenerator:\n",
    "    def __init__(self, file_path, x):\n",
    "        # Read words from the .txt file, add special token '.'\n",
    "        with open(file_path, 'r') as f:\n",
    "            self.words = ['.' + word.strip().lower() + '.' for word in f.readlines()]\n",
    "        self.x = x\n",
    "        self.char_to_idx = {}\n",
    "        self.idx_to_char = {}\n",
    "        self._create_xgram_probs()\n",
    "\n",
    "    def _create_xgram_probs(self):\n",
    "        # Create a set of all characters\n",
    "        characters = set(''.join(self.words))\n",
    "\n",
    "        # Create character to index mappings, and vice versa\n",
    "        for i, char in enumerate(characters):\n",
    "            self.char_to_idx[char] = i\n",
    "            self.idx_to_char[i] = char\n",
    "\n",
    "        # Count x grams\n",
    "        xgram_counts = np.zeros((len(characters),) * self.x)\n",
    "        # add tiny value to avoid zero probabilities\n",
    "        xgram_counts += 1e-10\n",
    "        for word in self.words:\n",
    "            for i in range(len(word) - self.x + 1):\n",
    "                xgram = word[i:i + self.x]\n",
    "                xgram_counts[tuple(self.char_to_idx[c] for c in xgram)] += 1\n",
    "\n",
    "        # Normalize counts to get probabilities\n",
    "        self.xgram_probs = xgram_counts / xgram_counts.sum(axis=-1, keepdims=True)\n",
    "\n",
    "    def get_neg_log_likelihood(self, word):\n",
    "        result = 0\n",
    "        word = '.' + word.strip().lower() + '.'\n",
    "        for i in range(len(word) - self.x):\n",
    "            xgram = word[i:i + self.x]\n",
    "            result += np.log(self.xgram_probs[tuple(self.char_to_idx[c] for c in xgram)])\n",
    "        return -result\n",
    "\n",
    "    def _generate_initial_chars(self):\n",
    "        initial_chars = ['.']\n",
    "        for i in range(1, self.x - 1):\n",
    "            current_char_probs = self.xgram_probs\n",
    "            for c in initial_chars[-i:]:\n",
    "                current_char_probs = current_char_probs[self.char_to_idx[c]]\n",
    "            current_char_probs = current_char_probs.sum(axis=tuple(range(1, self.x - i)))\n",
    "            current_char_probs /= current_char_probs.sum()  # Normalize the probabilities\n",
    "            current_char_probs[self.char_to_idx['.']] = 0  # Exclude '.' character\n",
    "            current_char_probs /= current_char_probs.sum()  # Re-normalize the probabilities\n",
    "            next_char_idx = np.random.multinomial(1, current_char_probs).argmax()\n",
    "            initial_chars.append(self.idx_to_char[next_char_idx])\n",
    "        return initial_chars\n",
    "\n",
    "    def generate_word(self, max_word_length):\n",
    "        generated_word = self._generate_initial_chars()\n",
    "\n",
    "        for _ in range(max_word_length - 1):\n",
    "            xgram = generated_word[-(self.x - 1):]\n",
    "            xgram_indices = [self.char_to_idx[c] for c in xgram]\n",
    "\n",
    "            if len(xgram_indices) < self.x - 1:\n",
    "                xgram_indices += [slice(None)] * (self.x - 1 - len(xgram_indices))\n",
    "                xgram_probs = self.xgram_probs[tuple(xgram_indices)].sum(axis=tuple(range(-(self.x - 1 - len(xgram)), 0)))\n",
    "            else:\n",
    "                xgram_probs = self.xgram_probs[tuple(xgram_indices)]\n",
    "\n",
    "            next_char_idx = np.random.multinomial(1, xgram_probs).argmax()\n",
    "            next_char = self.idx_to_char[next_char_idx]\n",
    "            if next_char == '.':\n",
    "                break\n",
    "            generated_word.append(next_char)\n",
    "\n",
    "        return ''.join(generated_word[1:]), self.get_neg_log_likelihood(''.join(generated_word[1:]))"
   ]
  },
  {
   "cell_type": "code",
   "execution_count": 10,
   "metadata": {},
   "outputs": [
    {
     "data": {
      "image/png": "[encoded data removed]",
      "text/plain": [
       "<Figure size 640x480 with 1 Axes>"
      ]
     },
     "metadata": {},
     "output_type": "display_data"
    }
   ],
   "source": [
    "# plot the negative log likelihoods of X=2 to X=5\n",
    "x_values = list(range(2, 6))\n",
    "models = []\n",
    "y_values = []\n",
    "max_word_length = 30\n",
    "num_words = 100\n",
    "for x in x_values:\n",
    "    xgram_name_generator = XgramWordGenerator('data/names.txt', x)\n",
    "    generated_words = [xgram_name_generator.generate_word(max_word_length) for _ in range(num_words)]\n",
    "    df = pd.DataFrame(generated_words, columns=['word', 'neg_log_likelihood'])\n",
    "    df.sort_values(by='neg_log_likelihood', inplace=True)\n",
    "    df.reset_index(drop=True, inplace=True)\n",
    "    y_values.append(df.neg_log_likelihood.mean())\n",
    "    models.append(xgram_name_generator)\n",
    "\n",
    "plt.plot(x_values, y_values)\n",
    "plt.xlabel('X')\n",
    "plt.ylabel('Average negative log likelihood')\n",
    "plt.grid()\n",
    "plt.show()"
   ]
  },
  {
   "cell_type": "code",
   "execution_count": 11,
   "metadata": {},
   "outputs": [
    {
     "data": {
      "text/plain": [
       "[(2, 14.353057739320356),\n",
       " (3, 10.71160144008808),\n",
       " (4, 12.767096105320874),\n",
       " (5, 34.24541616853153)]"
      ]
     },
     "execution_count": 11,
     "metadata": {},
     "output_type": "execute_result"
    }
   ],
   "source": [
    "# list of (X, neg_log_likelihood) tuples\n",
    "list(zip(x_values, y_values))"
   ]
  },
  {
   "cell_type": "code",
   "execution_count": 14,
   "metadata": {},
   "outputs": [
    {
     "data": {
      "text/plain": [
       "[(2, 0.0), (3, 0.0241), (4, 2.6391), (5, 95.9062)]"
      ]
     },
     "execution_count": 14,
     "metadata": {},
     "output_type": "execute_result"
    }
   ],
   "source": [
    "# list of (X, % uniform probability) tuples\n",
    "list(zip(x_values, [round(np.count_nonzero(model.xgram_probs.flatten() == 1/27) / 27**x * 100, 4) for model in models]))"
   ]
  },
  {
   "attachments": {},
   "cell_type": "markdown",
   "metadata": {},
   "source": [
    "The reason why 4-gram and 5-gram perform worse than 3-gram is due to data sparsity. As shown in the previous cell, 95% of all the probabilities in 5-gram are uniform (1/27, or no better than a random guess). 3-gram has the best performance because it has enough context without being too sparse. It is also much faster to train and test.\n",
    "\n",
    "In \"A Neural Probabilistic Language Model\" by Bengio et al., it mentions \"Typically researchers have used n = 3, i.e. trigrams, and obtained state-of-the-art results\".\n",
    "\n",
    "To solve the data sparsity problem, we can try using backoff (ex. 5-gram -> 4-gram -> 3-gram)."
   ]
  }
 ],
 "metadata": {
  "kernelspec": {
   "display_name": "Python 3",
   "language": "python",
   "name": "python3"
  },
  "language_info": {
   "codemirror_mode": {
    "name": "ipython",
    "version": 3
   },
   "file_extension": ".py",
   "mimetype": "text/x-python",
   "name": "python",
   "nbconvert_exporter": "python",
   "pygments_lexer": "ipython3",
   "version": "3.11.0"
  },
  "orig_nbformat": 4
 },
 "nbformat": 4,
 "nbformat_minor": 2
}
